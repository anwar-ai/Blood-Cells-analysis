{
  "nbformat": 4,
  "nbformat_minor": 0,
  "metadata": {
    "colab": {
      "name": "Bloody Idea",
      "provenance": [],
      "private_outputs": true,
      "authorship_tag": "ABX9TyONQTk1D33kibw/o1WJ4+AX",
      "include_colab_link": true
    },
    "kernelspec": {
      "name": "python3",
      "display_name": "Python 3"
    },
    "accelerator": "GPU"
  },
  "cells": [
    {
      "cell_type": "markdown",
      "metadata": {
        "id": "view-in-github",
        "colab_type": "text"
      },
      "source": [
        "<a href=\"https://colab.research.google.com/github/anwar-ai/Blood-Cells-analysis/blob/master/Bloody_Idea.ipynb\" target=\"_parent\"><img src=\"https://colab.research.google.com/assets/colab-badge.svg\" alt=\"Open In Colab\"/></a>"
      ]
    },
    {
      "cell_type": "markdown",
      "metadata": {
        "id": "u1VmZgzCIQi-",
        "colab_type": "text"
      },
      "source": [
        "![Texte alternatif…](https://scontent.fcmn3-2.fna.fbcdn.net/v/t1.0-9/14463049_309232812783867_1548228889625752894_n.jpg?_nc_cat=101&_nc_sid=dd9801&_nc_ohc=LbYnRC-lhKUAX_d9YZ6&_nc_ht=scontent.fcmn3-2.fna&oh=58f6757b96a4e8f68177eea87b256f7b&oe=5ED9728E)\n",
        "\n",
        "The diagnosis of blood-based diseases often involves identifying and characterizing patient blood samples. Automated methods to detect and classify blood cell subtypes have important medical applications.\n",
        "**anwar aachati** anwar.aachati@altran.com"
      ]
    },
    {
      "cell_type": "code",
      "metadata": {
        "id": "VsD6BdatYNF2",
        "colab_type": "code",
        "colab": {}
      },
      "source": [
        "import cv2\n",
        "import numpy as np\n",
        "import matplotlib.pyplot as plt\n",
        "from google.colab.patches import cv2_imshow\n",
        "import os\n"
      ],
      "execution_count": 0,
      "outputs": []
    },
    {
      "cell_type": "code",
      "metadata": {
        "id": "Lq10WTTEb3kj",
        "colab_type": "code",
        "colab": {}
      },
      "source": [
        "!git clone https://github.com/anwar-ai/Blood-Cells-analysis.git"
      ],
      "execution_count": 0,
      "outputs": []
    },
    {
      "cell_type": "code",
      "metadata": {
        "id": "zLgpAb1dcKUI",
        "colab_type": "code",
        "colab": {}
      },
      "source": [
        "ls Blood-Cells-analysis/CELLULES-SANGUINES"
      ],
      "execution_count": 0,
      "outputs": []
    },
    {
      "cell_type": "code",
      "metadata": {
        "id": "qiRoOTuPYQxj",
        "colab_type": "code",
        "colab": {}
      },
      "source": [
        "frame = cv2.imread(\"Blood-Cells-analysis/CELLULES-SANGUINES/BloodImage_00000.jpg\")\n",
        "img = frame\n",
        "hsv = cv2.cvtColor(img,cv2.COLOR_BGR2HSV)\n",
        "lower_blue= np.array([230,100,100])\n",
        "upper_blue = np.array([300,255,255])\n",
        "\n",
        "mask = cv2.inRange(img,lower_blue,upper_blue)\n",
        "\n",
        "cv2_imshow(frame)\n",
        "cv2.waitKey(0)"
      ],
      "execution_count": 0,
      "outputs": []
    },
    {
      "cell_type": "code",
      "metadata": {
        "id": "T_2oB3MCfHwu",
        "colab_type": "code",
        "colab": {}
      },
      "source": [
        "plt.figure(figsize=(17,9))\n",
        "plt.subplot(221)\n",
        "plt.imshow(hsv)\n",
        "plt.subplot(222)\n",
        "plt.imshow(frame)\n",
        "plt.show()"
      ],
      "execution_count": 0,
      "outputs": []
    },
    {
      "cell_type": "code",
      "metadata": {
        "id": "JamnL9wqfYru",
        "colab_type": "code",
        "colab": {}
      },
      "source": [
        "cv2_imshow(mask)"
      ],
      "execution_count": 0,
      "outputs": []
    },
    {
      "cell_type": "code",
      "metadata": {
        "id": "WCM4ExrBovCD",
        "colab_type": "code",
        "colab": {}
      },
      "source": [
        "resized=frame\n",
        "blur = cv2.GaussianBlur(resized,(7,7),0)"
      ],
      "execution_count": 0,
      "outputs": []
    },
    {
      "cell_type": "code",
      "metadata": {
        "id": "gwHaW9Waou8v",
        "colab_type": "code",
        "colab": {}
      },
      "source": [
        "roi_hsv = cv2.cvtColor(blur, cv2.COLOR_RGB2HSV)"
      ],
      "execution_count": 0,
      "outputs": []
    },
    {
      "cell_type": "code",
      "metadata": {
        "id": "rQHUjH9qou3x",
        "colab_type": "code",
        "colab": {}
      },
      "source": [
        "plt.imshow(roi_hsv)"
      ],
      "execution_count": 0,
      "outputs": []
    },
    {
      "cell_type": "code",
      "metadata": {
        "id": "iN4ribQZouxP",
        "colab_type": "code",
        "colab": {}
      },
      "source": [
        "h, s, v = cv2.split(roi_hsv)\n",
        "hsv_image = cv2.merge([h, s, v])"
      ],
      "execution_count": 0,
      "outputs": []
    },
    {
      "cell_type": "code",
      "metadata": {
        "id": "qKusZkGuousA",
        "colab_type": "code",
        "colab": {}
      },
      "source": [
        "plt.imshow(s)"
      ],
      "execution_count": 0,
      "outputs": []
    },
    {
      "cell_type": "code",
      "metadata": {
        "id": "POZ0i-CipCFP",
        "colab_type": "code",
        "colab": {}
      },
      "source": [
        "imgOTSU = cv2.threshold(s, 0,10, cv2.THRESH_BINARY + cv2.THRESH_OTSU)"
      ],
      "execution_count": 0,
      "outputs": []
    },
    {
      "cell_type": "code",
      "metadata": {
        "id": "CDEPBif6pCg1",
        "colab_type": "code",
        "colab": {}
      },
      "source": [
        "kernel = cv2.getStructuringElement(cv2.MORPH_RECT, (19, 19),(9,9))"
      ],
      "execution_count": 0,
      "outputs": []
    },
    {
      "cell_type": "code",
      "metadata": {
        "id": "phBYa1txpCbf",
        "colab_type": "code",
        "colab": {}
      },
      "source": [
        "plt.imshow(imgOTSU[1])"
      ],
      "execution_count": 0,
      "outputs": []
    },
    {
      "cell_type": "code",
      "metadata": {
        "id": "IQFUkoNjpCVe",
        "colab_type": "code",
        "colab": {}
      },
      "source": [
        "fgmask = cv2.morphologyEx(cv2.medianBlur(mask,7), cv2.MORPH_CLOSE, kernel)"
      ],
      "execution_count": 0,
      "outputs": []
    },
    {
      "cell_type": "code",
      "metadata": {
        "id": "V9tCzF_upLoc",
        "colab_type": "code",
        "colab": {}
      },
      "source": [
        "plt.imshow(fgmask)"
      ],
      "execution_count": 0,
      "outputs": []
    },
    {
      "cell_type": "code",
      "metadata": {
        "id": "m66vHGtYsuDn",
        "colab_type": "code",
        "colab": {}
      },
      "source": [
        "frame.shape"
      ],
      "execution_count": 0,
      "outputs": []
    },
    {
      "cell_type": "code",
      "metadata": {
        "id": "ycUIE3fmr7Xq",
        "colab_type": "code",
        "colab": {}
      },
      "source": [
        "def seuil (y):\n",
        "  p=y\n",
        "  for i in range (y.shape[0]):\n",
        "    for j in range (y.shape[1]):\n",
        "      if p[i][j]<100:\n",
        "         p[i][j]=0\n",
        "         \n",
        "       \n",
        "  return (p)"
      ],
      "execution_count": 0,
      "outputs": []
    },
    {
      "cell_type": "code",
      "metadata": {
        "id": "xzTsFSTvr8yO",
        "colab_type": "code",
        "colab": {}
      },
      "source": [
        "def bbox(g):\n",
        "    row=[]\n",
        "    col=[] \n",
        "    for i in range (0,g.shape[0]-1):\n",
        "        for j in range (0,g.shape[1]-1):\n",
        "            if g[i][j]!=0:\n",
        "                row.append(i)\n",
        "                col.append(j)                \n",
        "    xmax=max(row)\n",
        "    xmin=min(row)\n",
        "    ymax=max(col)\n",
        "    ymin=min(col) \n",
        "    return((ymin,xmin),(ymax,xmax))"
      ],
      "execution_count": 0,
      "outputs": []
    },
    {
      "cell_type": "code",
      "metadata": {
        "id": "-QafIzeCr-UV",
        "colab_type": "code",
        "colab": {}
      },
      "source": [
        "def ipp(img_111):\n",
        "    img_1=img_111\n",
        "    lower_blue= np.array([180,100,50])\n",
        "    upper_blue = np.array([270,120,255])\n",
        "    kernel = cv2.getStructuringElement(cv2.MORPH_RECT, (19, 19),(9,9))\n",
        "    window_name = 'bbx'\n",
        "    \n",
        "    color = (0,255, 0) \n",
        "    thickness = 1\n",
        "    mask_1 = cv2.inRange(img_1,lower_blue,upper_blue)\n",
        "    fg=cv2.morphologyEx(cv2.medianBlur(mask_1,3), cv2.MORPH_CLOSE, kernel)\n",
        "    start_point = bbox(fg)[0] \n",
        "    end_point =bbox(fg)[1] \n",
        "    image = cv2.putText(img_1, 'C_SANGUINE', start_point, cv2.FONT_HERSHEY_SIMPLEX , 0.45, color, 1, cv2.LINE_AA) \n",
        "    image_2 = cv2.rectangle(image, start_point, end_point, color, thickness) \n",
        "    return (image_2) \n",
        "    "
      ],
      "execution_count": 0,
      "outputs": []
    },
    {
      "cell_type": "code",
      "metadata": {
        "id": "rwXtp3Plr9Ad",
        "colab_type": "code",
        "colab": {}
      },
      "source": [
        "image_0=cv2.imread(\"Blood-Cells-analysis/CELLULES-SANGUINES/BloodImage_00061.jpg\")\n",
        "image_1=cv2.imread(\"Blood-Cells-analysis/CELLULES-SANGUINES/BloodImage_00062.jpg\")\n",
        "image_2=cv2.imread(\"Blood-Cells-analysis/CELLULES-SANGUINES/BloodImage_00063.jpg\")\n",
        "image_3=cv2.imread(\"Blood-Cells-analysis/CELLULES-SANGUINES/BloodImage_00064.jpg\")\n",
        "image_4=cv2.imread(\"Blood-Cells-analysis/CELLULES-SANGUINES/BloodImage_00065.jpg\")\n",
        "image_5=cv2.imread(\"Blood-Cells-analysis/CELLULES-SANGUINES/BloodImage_00066.jpg\")\n",
        "image_6=cv2.imread(\"Blood-Cells-analysis/CELLULES-SANGUINES/BloodImage_00067.jpg\")"
      ],
      "execution_count": 0,
      "outputs": []
    },
    {
      "cell_type": "code",
      "metadata": {
        "id": "C8Omr550W0Va",
        "colab_type": "code",
        "colab": {}
      },
      "source": [
        "plt.figure(figsize=(17,10))\n",
        "plt.subplot(321)\n",
        "plt.imshow(ipp(image_1))\n",
        "\n",
        "plt.subplot(322)\n",
        "plt.imshow(ipp(image_2))\n",
        "\n",
        "plt.subplot(323)\n",
        "plt.imshow(ipp(image_3))\n",
        "\n",
        "plt.subplot(324)\n",
        "plt.imshow(ipp(image_4))\n",
        "\n",
        "plt.subplot(325)\n",
        "plt.imshow(ipp(image_5))\n",
        "\n",
        "plt.subplot(326)\n",
        "plt.imshow(ipp(image_6))\n",
        "plt.show()"
      ],
      "execution_count": 0,
      "outputs": []
    },
    {
      "cell_type": "code",
      "metadata": {
        "id": "BV1q87vVaCL-",
        "colab_type": "code",
        "colab": {}
      },
      "source": [
        "mask_1 = cv2.inRange(image_2,lower_blue,upper_blue)\n",
        "fgmask_2=cv2.morphologyEx(cv2.medianBlur(mask_1,1), cv2.MORPH_CLOSE, kernel)\n",
        "plt.figure(figsize=(17,11))\n",
        "plt.subplot(121)\n",
        "plt.imshow(fgmask_2)\n",
        "plt.subplot(122)\n",
        "plt.imshow(image_2)\n",
        "plt.show()"
      ],
      "execution_count": 0,
      "outputs": []
    },
    {
      "cell_type": "code",
      "metadata": {
        "id": "woWDsnhQc9Pu",
        "colab_type": "code",
        "colab": {}
      },
      "source": [
        "image_= cv2.cvtColor(image_2, cv2.COLOR_BGR2GRAY)\n",
        "image__= cv2.equalizeHist(image_)\n",
        "plt.subplot(131)\n",
        "plt.imshow(image_,cmap=\"gray\")\n",
        "plt.subplot(132)\n",
        "plt.imshow(image__,cmap=\"gray\")\n",
        "plt.subplot(133)\n",
        "plt.imshow(cv2.Laplacian(image_,cv2.CV_32F))\n",
        "\n",
        "plt.tight_layout()\n",
        "plt.show()\n"
      ],
      "execution_count": 0,
      "outputs": []
    },
    {
      "cell_type": "code",
      "metadata": {
        "id": "P9Z2ykgS2X2H",
        "colab_type": "code",
        "colab": {}
      },
      "source": [
        "kernel = cv2.getStructuringElement(cv2.MORPH_ELLIPSE, (19, 19),(11,11))\n",
        "lowe_blue= np.array([180,100,100])\n",
        "uppe_blue = np.array([270,130,255])\n",
        "mask_11 = cv2.inRange(image_14,lowe_blue,uppe_blue)\n",
        "plt.figure(figsize=(15,11))\n",
        "plt.subplot(132)\n",
        "plt.imshow(mask_11)\n",
        "plt.xlabel(\"mask\")\n",
        "plt.subplot(131)\n",
        "plt.imshow(image_14)\n",
        "plt.xlabel(\"original\")\n",
        "plt.subplot(133)\n",
        "plt.imshow(cv2.morphologyEx(cv2.medianBlur(mask_11,9), cv2.MORPH_CLOSE, kernel))\n",
        "plt.xlabel(\"smoothing\")\n",
        "plt.show()"
      ],
      "execution_count": 0,
      "outputs": []
    },
    {
      "cell_type": "code",
      "metadata": {
        "id": "dPU2MjAwO8f0",
        "colab_type": "code",
        "colab": {}
      },
      "source": [
        "kernel = cv2.getStructuringElement(cv2.MORPH_ELLIPSE, (19, 19),(9,9))\n",
        "lowe_blue= np.array([180,100,100])\n",
        "uppe_blue = np.array([270,130,255])\n",
        "mask_11 = cv2.inRange(image_11,lowe_blue,uppe_blue)\n",
        "plt.figure(figsize=(15,11))\n",
        "plt.subplot(132)\n",
        "plt.imshow(mask_11)\n",
        "plt.xlabel(\"mask\")\n",
        "plt.subplot(131)\n",
        "plt.imshow(image_11)\n",
        "plt.xlabel(\"original\")\n",
        "plt.subplot(133)\n",
        "plt.imshow(cv2.morphologyEx(cv2.medianBlur(mask_11,11), cv2.MORPH_CLOSE, kernel))\n",
        "plt.xlabel(\"smoothing\")\n",
        "plt.show()"
      ],
      "execution_count": 0,
      "outputs": []
    },
    {
      "cell_type": "code",
      "metadata": {
        "colab_type": "code",
        "id": "hXuH0v1PZ25_",
        "colab": {}
      },
      "source": [
        "lowe_blue= np.array([180,100,100])\n",
        "uppe_blue = np.array([270,120,255])\n",
        "mask_11 = cv2.inRange(image_15,lowe_blue,uppe_blue)\n",
        "plt.figure(figsize=(15,11))\n",
        "plt.subplot(132)\n",
        "plt.imshow(mask_11)\n",
        "plt.xlabel(\"mask\")\n",
        "plt.subplot(131)\n",
        "plt.imshow(image_15)\n",
        "plt.xlabel(\"original\")\n",
        "plt.subplot(133)\n",
        "plt.imshow(cv2.morphologyEx(cv2.medianBlur(mask_11,11), cv2.MORPH_CLOSE, kernel))\n",
        "plt.xlabel(\"smoothing\")\n",
        "plt.show()"
      ],
      "execution_count": 0,
      "outputs": []
    },
    {
      "cell_type": "code",
      "metadata": {
        "id": "wS7wa4Wfdq1x",
        "colab_type": "code",
        "colab": {}
      },
      "source": [
        "lowe_blue= np.array([180,100,100])\n",
        "uppe_blue = np.array([270,120,255])\n",
        "mask_11 = cv2.inRange(image_16,lowe_blue,uppe_blue)\n",
        "plt.figure(figsize=(15,11))\n",
        "plt.subplot(132)\n",
        "plt.imshow(mask_11)\n",
        "plt.xlabel(\"mask\")\n",
        "plt.subplot(131)\n",
        "plt.imshow(image_16)\n",
        "plt.xlabel(\"original\")\n",
        "plt.subplot(133)\n",
        "plt.imshow(cv2.morphologyEx(cv2.medianBlur(mask_11,11), cv2.MORPH_CLOSE, kernel))\n",
        "plt.xlabel(\"smoothing\")\n",
        "plt.show()"
      ],
      "execution_count": 0,
      "outputs": []
    },
    {
      "cell_type": "markdown",
      "metadata": {
        "id": "ADo91UcveHwa",
        "colab_type": "text"
      },
      "source": [
        "#**La méthode   findcontours**"
      ]
    },
    {
      "cell_type": "code",
      "metadata": {
        "id": "3qk6tf7hE-mA",
        "colab_type": "code",
        "colab": {}
      },
      "source": [
        "ls Blood-Cells-analysis/CELLULES-SANGUINES/"
      ],
      "execution_count": 0,
      "outputs": []
    },
    {
      "cell_type": "code",
      "metadata": {
        "id": "Lp0GvCi9EjIb",
        "colab_type": "code",
        "colab": {}
      },
      "source": [
        "image_0=cv2.imread(\"Blood-Cells-analysis/CELLULES-SANGUINES/BloodImage_00033.jpg\")\n",
        "image_1=cv2.imread(\"Blood-Cells-analysis/CELLULES-SANGUINES/BloodImage_00034.jpg\")\n",
        "image_2=cv2.imread(\"Blood-Cells-analysis/CELLULES-SANGUINES/BloodImage_00035.jpg\")\n",
        "image_3=cv2.imread(\"Blood-Cells-analysis/CELLULES-SANGUINES/BloodImage_00036.jpg\")\n",
        "image_4=cv2.imread(\"Blood-Cells-analysis/CELLULES-SANGUINES/BloodImage_00037.jpg\")\n",
        "image_5=cv2.imread(\"Blood-Cells-analysis/CELLULES-SANGUINES/BloodImage_00038.jpg\")\n",
        "image_6=cv2.imread(\"Blood-Cells-analysis/CELLULES-SANGUINES/BloodImage_00039.jpg\")\n",
        "image_7=cv2.imread(\"Blood-Cells-analysis/CELLULES-SANGUINES/BloodImage_00040.jpg\")\n",
        "image_8=cv2.imread(\"Blood-Cells-analysis/CELLULES-SANGUINES/BloodImage_00041.jpg\")\n",
        "image_9=cv2.imread(\"Blood-Cells-analysis/CELLULES-SANGUINES/BloodImage_00042.jpg\")\n",
        "image_10=cv2.imread(\"Blood-Cells-analysis/CELLULES-SANGUINES/BloodImage_00043.jpg\")\n",
        "image_11=cv2.imread(\"Blood-Cells-analysis/CELLULES-SANGUINES/BloodImage_00044.jpg\")\n",
        "image_12=cv2.imread(\"Blood-Cells-analysis/CELLULES-SANGUINES/BloodImage_00045.jpg\")\n",
        "image_13=cv2.imread(\"Blood-Cells-analysis/CELLULES-SANGUINES/BloodImage_00046.jpg\")\n",
        "image_14=cv2.imread(\"Blood-Cells-analysis/CELLULES-SANGUINES/BloodImage_00047.jpg\")\n",
        "image_15=cv2.imread(\"Blood-Cells-analysis/CELLULES-SANGUINES/BloodImage_00048.jpg\")\n",
        "image_16=cv2.imread(\"Blood-Cells-analysis/CELLULES-SANGUINES/BloodImage_00049.jpg\")\n",
        "image_17=cv2.imread(\"Blood-Cells-analysis/CELLULES-SANGUINES/BloodImage_00050.jpg\")\n",
        "image_18=cv2.imread(\"Blood-Cells-analysis/CELLULES-SANGUINES/BloodImage_00072.jpg\")\n",
        "image_19=cv2.imread(\"Blood-Cells-analysis/CELLULES-SANGUINES/BloodImage_00073.jpg\")\n",
        "image_20=cv2.imread(\"Blood-Cells-analysis/CELLULES-SANGUINES/BloodImage_00090.jpg\")"
      ],
      "execution_count": 0,
      "outputs": []
    },
    {
      "cell_type": "code",
      "metadata": {
        "id": "Wt4t0W8LqN7n",
        "colab_type": "code",
        "colab": {}
      },
      "source": [
        "cv2_imshow(cv2.drawContours(image_1, contours, -1, (0,255,0), 3,cv2.CHAIN_APPROX_SIMPLE))"
      ],
      "execution_count": 0,
      "outputs": []
    },
    {
      "cell_type": "code",
      "metadata": {
        "id": "orXXJk7CzBgI",
        "colab_type": "code",
        "colab": {}
      },
      "source": [
        "contours = cv2.findContours(mask_11, cv2.RETR_EXTERNAL, cv2.CHAIN_APPROX_NONE)\n",
        "contours = contours[0] if len(contours) == 2 else contours[1]\n",
        "\n",
        "for c in contours:\n",
        "  x, y, w, h = cv2.boundingRect(c)\n",
        "  if h >40 and w>40:\n",
        "    \n",
        "   \n",
        "    \n",
        "\n",
        "    cv2.rectangle(image_14, (x, y), (x + w, y + h), (0, 255, 0), 2)\n",
        "plt.imshow( image_14)"
      ],
      "execution_count": 0,
      "outputs": []
    },
    {
      "cell_type": "code",
      "metadata": {
        "id": "Y1n3g3CH7Qod",
        "colab_type": "code",
        "colab": {}
      },
      "source": [
        "def anwarisation(photo):\n",
        "  lower_blue= np.array([180,100,50])\n",
        "  upper_blue = np.array([270,120,255])\n",
        "  kernel = cv2.getStructuringElement(cv2.MORPH_RECT, (19, 19),(9,9))\n",
        "  thickness = 1\n",
        "  masque = cv2.inRange(photo,lower_blue,upper_blue)\n",
        "  ff=cv2.morphologyEx(cv2.medianBlur(masque,3), cv2.MORPH_CLOSE, kernel)\n",
        "  contours = cv2.findContours(ff, cv2.RETR_EXTERNAL, cv2.CHAIN_APPROX_NONE)\n",
        "  contours = contours[0] if len(contours) == 2 else contours[1]\n",
        "\n",
        "  for c in contours:\n",
        "    x, y, w, h = cv2.boundingRect(c)\n",
        "    if h >40 and w>40:\n",
        "    \n",
        "   \n",
        "    \n",
        "      cv2.putText(photo, 'cellules_B', (x,y), cv2.FONT_HERSHEY_SIMPLEX , 0.7, (0, 255, 0), 1, cv2.LINE_AA)\n",
        "      cv2.rectangle(photo, (x, y), (x + w, y + h), (0, 255, 0), 2)\n",
        "  return (photo)\n"
      ],
      "execution_count": 0,
      "outputs": []
    },
    {
      "cell_type": "code",
      "metadata": {
        "id": "RrS1URTK8Wnu",
        "colab_type": "code",
        "colab": {}
      },
      "source": [
        "plt.tight_layout()\n",
        "plt.figure(figsize=(17,10))\n",
        "plt.subplot(321)\n",
        "plt.imshow(anwarisation(image_0))\n",
        "\n",
        "plt.subplot(322)\n",
        "plt.imshow(anwarisation(image_1))\n",
        "\n",
        "plt.subplot(323)\n",
        "plt.imshow(anwarisation(image_2))\n",
        "\n",
        "plt.subplot(324)\n",
        "plt.imshow(anwarisation(image_3))\n",
        "\n",
        "plt.subplot(325)\n",
        "plt.imshow(anwarisation(image_4))\n",
        "\n",
        "plt.subplot(326)\n",
        "plt.imshow(anwarisation(image_5))\n",
        "plt.show()"
      ],
      "execution_count": 0,
      "outputs": []
    },
    {
      "cell_type": "code",
      "metadata": {
        "id": "c978fA0WDSre",
        "colab_type": "code",
        "colab": {}
      },
      "source": [
        "plt.tight_layout()\n",
        "plt.figure(figsize=(17,10))\n",
        "plt.subplot(321)\n",
        "plt.imshow(anwarisation(image_6))\n",
        "\n",
        "plt.subplot(322)\n",
        "plt.imshow(anwarisation(image_7))\n",
        "\n",
        "plt.subplot(323)\n",
        "plt.imshow(anwarisation(image_8))\n",
        "\n",
        "plt.subplot(324)\n",
        "plt.imshow(anwarisation(image_9))\n",
        "\n",
        "plt.subplot(325)\n",
        "plt.imshow(anwarisation(image_10))\n",
        "\n",
        "plt.subplot(326)\n",
        "plt.imshow(anwarisation(image_11))\n",
        "plt.show()"
      ],
      "execution_count": 0,
      "outputs": []
    },
    {
      "cell_type": "code",
      "metadata": {
        "id": "KsfaPKAFGN6V",
        "colab_type": "code",
        "colab": {}
      },
      "source": [
        "plt.tight_layout()\n",
        "plt.figure(figsize=(17,10))\n",
        "plt.subplot(321)\n",
        "plt.imshow(anwarisation(image_12))\n",
        "\n",
        "plt.subplot(322)\n",
        "plt.imshow(anwarisation(image_13))\n",
        "\n",
        "plt.subplot(323)\n",
        "plt.imshow(anwarisation(image_14))\n",
        "\n",
        "plt.subplot(324)\n",
        "plt.imshow(anwarisation(image_15))\n",
        "\n",
        "plt.subplot(325)\n",
        "plt.imshow(anwarisation(image_16))\n",
        "\n",
        "plt.subplot(326)\n",
        "plt.imshow(anwarisation(image_17))\n",
        "plt.show()"
      ],
      "execution_count": 0,
      "outputs": []
    },
    {
      "cell_type": "code",
      "metadata": {
        "id": "rixo9jFUHOKp",
        "colab_type": "code",
        "colab": {}
      },
      "source": [
        "plt.tight_layout()\n",
        "plt.figure(figsize=(17,10))\n",
        "plt.subplot(131)\n",
        "plt.imshow(anwarisation(image_18))\n",
        "\n",
        "plt.subplot(132)\n",
        "plt.imshow(anwarisation(image_19))\n",
        "\n",
        "plt.subplot(133)\n",
        "plt.imshow(anwarisation(image_20))\n",
        "\n",
        "plt.show()"
      ],
      "execution_count": 0,
      "outputs": []
    },
    {
      "cell_type": "code",
      "metadata": {
        "id": "RKgBut9SHgFR",
        "colab_type": "code",
        "colab": {}
      },
      "source": [
        ""
      ],
      "execution_count": 0,
      "outputs": []
    }
  ]
}